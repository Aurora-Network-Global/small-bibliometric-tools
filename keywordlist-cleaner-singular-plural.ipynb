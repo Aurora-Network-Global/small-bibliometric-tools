{
 "cells": [
  {
   "cell_type": "markdown",
   "metadata": {},
   "source": [
    "# enkelvoud/meervoud oplosser"
   ]
  },
  {
   "cell_type": "code",
   "execution_count": 2,
   "metadata": {},
   "outputs": [],
   "source": [
    "# case: we willen niet beide vormen in keywords, maar alleen 1 (maakt niet uit welke)\n",
    "# aanname: we negeren speciale woorden waar de 2 vormen andere betekenis/rol hebben (zoals fish/fishes)"
   ]
  },
  {
   "cell_type": "code",
   "execution_count": 6,
   "metadata": {},
   "outputs": [],
   "source": [
    "# soft-ware paketten binnenhalen\n",
    "from nltk.stem import PorterStemmer"
   ]
  },
  {
   "cell_type": "code",
   "execution_count": 22,
   "metadata": {},
   "outputs": [
    {
     "name": "stdout",
     "output_type": "stream",
     "text": [
      "All unique stems: ['appl', 'pear', 'mango']\n",
      "All unique keywords: ['apple', 'pears', 'mango']\n"
     ]
    }
   ],
   "source": [
    "# voorbeeld keyword lijst\n",
    "# bijvoorbeeld appels\n",
    "\n",
    "keywords = ['apple',\n",
    "            'apples',\n",
    "            'pears',\n",
    "            'pear',\n",
    "            'mango']\n",
    "\n",
    "\n",
    "\n",
    "# maak object voor woordstam isolatie:\n",
    "ps = PorterStemmer()\n",
    "\n",
    "# maak lijsten klaar\n",
    "keywords_clean = []\n",
    "stem_list = []\n",
    "\n",
    "# loop over de keywords\n",
    "for word in keywords:\n",
    "    \n",
    "    # vind de woordstam\n",
    "    cur_stem = ps.stem(word)\n",
    "    \n",
    "    # als we de stam nog niet hebben, voeg de stam en originele keyword toe aan de lijsten\n",
    "    if not(cur_stem in stem_list):\n",
    "        stem_list = stem_list + [cur_stem]\n",
    "        keywords_clean = keywords_clean + [word]\n",
    "    \n",
    "# print het resultaat\n",
    "print('All unique stems: ' + str(stem_list))\n",
    "print('All unique keywords: ' + str(keywords_clean))"
   ]
  },
  {
   "cell_type": "code",
   "execution_count": null,
   "metadata": {},
   "outputs": [],
   "source": []
  },
  {
   "cell_type": "code",
   "execution_count": null,
   "metadata": {},
   "outputs": [],
   "source": []
  },
  {
   "cell_type": "code",
   "execution_count": null,
   "metadata": {},
   "outputs": [],
   "source": [
    "# enkelvoud/meervoud oplosser / plural-singular-solver\n",
    "\n",
    "# case: we willen niet beide vormen in keywords, maar alleen 1 (maakt niet uit welke)\n",
    "# aanname: we negeren speciale woorden waar de 2 vormen andere betekenis/rol hebben (zoals fish/fishes)\n",
    "# / we want to have 1 form of every word, plural or singular. we ignore issues like with fish/fishes in meaning.\n",
    "\n",
    "# soft-ware paketten binnenhalen / import packages\n",
    "from nltk.stem import PorterStemmer\n",
    "\n",
    "# voorbeeld keyword lijst / exampe keyword list\n",
    "# bijvoorbeeld appels\n",
    "\n",
    "keywords = ['apple',\n",
    "            'apples',\n",
    "            'pears',\n",
    "            'pear',\n",
    "            'mango']\n",
    "\n",
    "\n",
    "\n",
    "# maak object voor woordstam isolatie: / make stemmer\n",
    "ps = PorterStemmer()\n",
    "\n",
    "# maak lijsten klaar / initialize lists\n",
    "keywords_clean = []\n",
    "stem_list = []\n",
    "\n",
    "# loop over de keywords\n",
    "for word in keywords:\n",
    "    \n",
    "    # vind de woordstam / find stem\n",
    "    cur_stem = ps.stem(word)\n",
    "    \n",
    "    # als we de stam nog niet hebben, voeg de stam en originele keyword toe aan de lijsten / add stem if new and word itself\n",
    "    if not(cur_stem in stem_list):\n",
    "        stem_list = stem_list + [cur_stem]\n",
    "        keywords_clean = keywords_clean + [word]\n",
    "    \n",
    "# print het resultaat / print the result\n",
    "print('All unique stems: ' + str(stem_list))\n",
    "print('All unique keywords: ' + str(keywords_clean))\n",
    "\n",
    "\n",
    "# example output \n",
    "# print: All unique stems: ['appl', 'pear', 'mango']\n",
    "# print: All unique keywords: ['apple', 'pears', 'mango']\n"
   ]
  },
  {
   "cell_type": "code",
   "execution_count": null,
   "metadata": {},
   "outputs": [],
   "source": []
  },
  {
   "cell_type": "code",
   "execution_count": null,
   "metadata": {},
   "outputs": [],
   "source": []
  }
 ],
 "metadata": {
  "kernelspec": {
   "display_name": "Python 3",
   "language": "python",
   "name": "python3"
  },
  "language_info": {
   "codemirror_mode": {
    "name": "ipython",
    "version": 3
   },
   "file_extension": ".py",
   "mimetype": "text/x-python",
   "name": "python",
   "nbconvert_exporter": "python",
   "pygments_lexer": "ipython3",
   "version": "3.7.3"
  }
 },
 "nbformat": 4,
 "nbformat_minor": 2
}
